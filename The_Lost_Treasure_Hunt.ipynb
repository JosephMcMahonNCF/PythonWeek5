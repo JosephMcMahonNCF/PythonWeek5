{
  "cells": [
    {
      "cell_type": "markdown",
      "metadata": {
        "id": "view-in-github",
        "colab_type": "text"
      },
      "source": [
        "<a href=\"https://colab.research.google.com/github/JosephMcMahonNCF/PythonWeek5/blob/master/The_Lost_Treasure_Hunt.ipynb\" target=\"_parent\"><img src=\"https://colab.research.google.com/assets/colab-badge.svg\" alt=\"Open In Colab\"/></a>"
      ]
    },
    {
      "cell_type": "markdown",
      "id": "5f0781e388e39573",
      "metadata": {
        "collapsed": false,
        "id": "5f0781e388e39573"
      },
      "source": []
    },
    {
      "cell_type": "markdown",
      "id": "3130f23a633805a9",
      "metadata": {
        "collapsed": false,
        "id": "3130f23a633805a9"
      },
      "source": [
        "# Riddle: The Lost Treasure Hunt\n",
        "\n",
        "You are on a quest to find the lost treasure of Pandas Island! To uncover the treasure's location, you need to solve a series of data-related challenges. Each challenge brings you one step closer to the treasure's coordinates."
      ]
    },
    {
      "cell_type": "code",
      "execution_count": null,
      "id": "18db4a85afcc4bbb",
      "metadata": {
        "id": "18db4a85afcc4bbb"
      },
      "outputs": [],
      "source": [
        "import pandas as pd\n"
      ]
    },
    {
      "cell_type": "code",
      "execution_count": null,
      "id": "c5088c2d4c7e81ad",
      "metadata": {
        "id": "c5088c2d4c7e81ad"
      },
      "outputs": [],
      "source": [
        "\n",
        "data = {\n",
        "    'Latitude': [38.895110, 41.878113, 34.052235, 29.760427, 25.761679, 45.523064, 51.507351, 55.755825],\n",
        "    'Longitude': [-77.036366, -87.629799, -118.243683, -95.369804, -80.191790, 9.082024, -0.127758, 37.617604],\n",
        "    'Notes': [\n",
        "        \"Start here and follow the clues!\",\n",
        "        \"Crossroads of adventures.\",\n",
        "        \"City of Angels. Look for the bright lights.\",\n",
        "        \"Space City. Check the NASA space center.\",\n",
        "        \"Magic City. The treasure is near the beach!\",\n",
        "        \"City of Canals. Watch out for gondolas.\",\n",
        "        \"Foggy Capital. It's always raining here.\",\n",
        "        \"Cold Treasure. Check near the Trans-Siberian railway.\"\n",
        "    ]\n",
        "}\n",
        "\n",
        "treasure_map = pd.DataFrame(data)\n",
        "print (\"done\")"
      ]
    },
    {
      "cell_type": "markdown",
      "id": "6bd2aaac20f52f0b",
      "metadata": {
        "collapsed": false,
        "id": "6bd2aaac20f52f0b"
      },
      "source": [
        "\n",
        "# Challenge 1: The Initial Clue\n",
        "\n",
        "You have a DataFrame named treasure_map with columns 'Latitude' and 'Longitude'. Retrieve the first 3 rows to get your initial clue."
      ]
    },
    {
      "cell_type": "code",
      "execution_count": null,
      "id": "48f45324cbecbb6a",
      "metadata": {
        "id": "48f45324cbecbb6a"
      },
      "outputs": [],
      "source": [
        "initial_clue =  treasure_map.head(3)\n",
        "print(initial_clue)"
      ]
    },
    {
      "cell_type": "markdown",
      "id": "b8cb57881ad216fa",
      "metadata": {
        "collapsed": false,
        "id": "b8cb57881ad216fa"
      },
      "source": [
        "\n",
        "# Challenge 2: Unveiling the Clue\n",
        "Filter the rows where 'Longitude' is greater than 0. Now, you'll get a hint about the treasure's hemisphere!"
      ]
    },
    {
      "cell_type": "code",
      "execution_count": null,
      "id": "35c777928de88a63",
      "metadata": {
        "id": "35c777928de88a63"
      },
      "outputs": [],
      "source": [
        "# hemisphere_hint\n",
        "print(hemisphere_hint)"
      ]
    },
    {
      "cell_type": "markdown",
      "id": "de93560b7f059666",
      "metadata": {
        "collapsed": false,
        "id": "de93560b7f059666"
      },
      "source": [
        "\n",
        "# Challenge 3: Navigating the Path\n",
        "Sort the DataFrame based on 'Latitude' in ascending order. You're closer to the treasure's location."
      ]
    },
    {
      "cell_type": "code",
      "execution_count": null,
      "id": "a60e4aa34a60beda",
      "metadata": {
        "id": "a60e4aa34a60beda"
      },
      "outputs": [],
      "source": [
        "# sorted_map = treasure_map.sort_values(by='Latitude')\n",
        "print(sorted_map)"
      ]
    },
    {
      "cell_type": "markdown",
      "id": "d34b44240d517585",
      "metadata": {
        "collapsed": false,
        "id": "d34b44240d517585"
      },
      "source": [
        "\n",
        "\n",
        "# Challenge 4: X Marks the Spot\n",
        "It appears that the mysterious note you found doesn't contain the usual \"X marks the spot\" clue. Instead, you've discovered a custom condition based on latitude and longitude values.\n",
        "The custom condition is based on specific geographic coordinates. It specifies that you should look for locations where the latitude is greater than 40 degrees and the longitude is less than 0 degrees. In simpler terms:\n",
        "\n",
        "- Latitude greater than 40 degrees indicates a location north of 40 degrees latitude.\n",
        "- Longitude less than 0 degrees indicates a location west of the Prime Meridian.\n",
        "So, you should search for places in the treasure_map DataFrame that match this condition. These locations are your final clues to finding the lost treasure."
      ]
    },
    {
      "cell_type": "code",
      "execution_count": null,
      "id": "a834eecf3ed346a7",
      "metadata": {
        "id": "a834eecf3ed346a7"
      },
      "outputs": [],
      "source": []
    },
    {
      "cell_type": "markdown",
      "id": "3f02be589525f0b6",
      "metadata": {
        "collapsed": false,
        "id": "3f02be589525f0b6"
      },
      "source": [
        "\n",
        "# Challenge 5: The Final Countdown\n",
        "Legends speak of cities and their tales, but not all tales belong to the right city. With the power of pandas, cross-reference your city coordinates with the tales you've heard. In this dance of data, only one city will reveal its true story."
      ]
    },
    {
      "cell_type": "code",
      "execution_count": null,
      "outputs": [],
      "source": [
        "\n",
        "data = {\n",
        "    'City Name': [\"Washington, D.C.\", \"Los Angeles\", \"Houston\", \"Miami\", \"Portland\", \"London\", \"Moscow\"],\n",
        "    'Latitude': [38.895110, 34.052235, 29.760427, 25.761679, 45.523064, 51.507351, 55.755825],\n",
        "    'Longitude': [-77.036366, -118.243683, -95.369804, -80.191790, 9.082024, -0.127758, 37.617604]\n",
        "}\n",
        "\n",
        "# Construct the DataFrame\n",
        "cities_df = pd.DataFrame(data)\n",
        "\n",
        "\n"
      ],
      "metadata": {
        "id": "86e9d2e3f0a29cc0"
      },
      "id": "86e9d2e3f0a29cc0"
    },
    {
      "cell_type": "markdown",
      "source": [
        "Now write a merge statement to combine the two DataFrames on the 'Latitude' and 'Longitude' columns. This will give you the final city name."
      ],
      "metadata": {
        "collapsed": false,
        "id": "9ec12e7ab23fb98d"
      },
      "id": "9ec12e7ab23fb98d"
    },
    {
      "cell_type": "code",
      "execution_count": null,
      "id": "56f2ec74950d9165",
      "metadata": {
        "id": "56f2ec74950d9165"
      },
      "outputs": [],
      "source": [
        "\n"
      ]
    },
    {
      "cell_type": "markdown",
      "id": "d5836684a4b905dc",
      "metadata": {
        "collapsed": false,
        "id": "d5836684a4b905dc"
      },
      "source": [
        "\n",
        "# Solve these challenges step by step to reveal the treasure's location!"
      ]
    },
    {
      "cell_type": "raw",
      "id": "55d1207fc6cd0c0",
      "metadata": {
        "collapsed": false,
        "id": "55d1207fc6cd0c0"
      },
      "source": []
    }
  ],
  "metadata": {
    "kernelspec": {
      "display_name": "Python 3 (ipykernel)",
      "language": "python",
      "name": "python3"
    },
    "language_info": {
      "codemirror_mode": {
        "name": "ipython",
        "version": 3
      },
      "file_extension": ".py",
      "mimetype": "text/x-python",
      "name": "python",
      "nbconvert_exporter": "python",
      "pygments_lexer": "ipython3",
      "version": "3.10.6"
    },
    "colab": {
      "provenance": [],
      "include_colab_link": true
    }
  },
  "nbformat": 4,
  "nbformat_minor": 5
}